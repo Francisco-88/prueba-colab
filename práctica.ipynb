{
  "cells": [
    {
      "cell_type": "markdown",
      "metadata": {
        "id": "view-in-github",
        "colab_type": "text"
      },
      "source": [
        "<a href=\"https://colab.research.google.com/github/Francisco-88/prueba-colab/blob/main/pr%C3%A1ctica.ipynb\" target=\"_parent\"><img src=\"https://colab.research.google.com/assets/colab-badge.svg\" alt=\"Open In Colab\"/></a>"
      ]
    },
    {
      "cell_type": "markdown",
      "metadata": {
        "id": "HI0WWODIrhEp"
      },
      "source": [
        "# Primeros pasos con Python"
      ]
    },
    {
      "cell_type": "code",
      "execution_count": 1,
      "metadata": {
        "colab": {
          "base_uri": "https://localhost:8080/"
        },
        "id": "ck2APWy4rew4",
        "outputId": "cd415d73-1a62-47c4-d0d8-a10a6fc43f0b"
      },
      "outputs": [
        {
          "output_type": "stream",
          "name": "stdout",
          "text": [
            "hello world\n"
          ]
        }
      ],
      "source": [
        "print('hello world')"
      ]
    },
    {
      "cell_type": "code",
      "execution_count": 2,
      "metadata": {
        "colab": {
          "base_uri": "https://localhost:8080/"
        },
        "id": "b-9QcGjLroyo",
        "outputId": "c5321b8c-186a-4e7a-840b-763ac0298aa7"
      },
      "outputs": [
        {
          "output_type": "stream",
          "name": "stdout",
          "text": [
            "¡Hola!\n"
          ]
        }
      ],
      "source": [
        "print(\"¡Hola!\")"
      ]
    },
    {
      "cell_type": "markdown",
      "metadata": {
        "id": "lEjcVi66irmR"
      },
      "source": [
        "# Bucles"
      ]
    },
    {
      "cell_type": "markdown",
      "metadata": {
        "id": "VHK7VH1qirmR"
      },
      "source": [
        "## for"
      ]
    },
    {
      "cell_type": "code",
      "execution_count": 3,
      "metadata": {
        "colab": {
          "base_uri": "https://localhost:8080/"
        },
        "id": "0Utv1tA0FMC4",
        "outputId": "db99fe6e-f2f0-4b6e-c91e-025dd5e5ebdf"
      },
      "outputs": [
        {
          "output_type": "stream",
          "name": "stdout",
          "text": [
            "1\n",
            "2\n",
            "3\n",
            "4\n",
            "5\n",
            "6\n",
            "7\n",
            "8\n",
            "9\n",
            "10\n"
          ]
        }
      ],
      "source": [
        "for i in range(1,11):\n",
        "  print(i)"
      ]
    },
    {
      "cell_type": "markdown",
      "metadata": {
        "id": "Y5ceZYqNirmS"
      },
      "source": [
        "## while"
      ]
    },
    {
      "cell_type": "code",
      "execution_count": 4,
      "metadata": {
        "colab": {
          "base_uri": "https://localhost:8080/"
        },
        "id": "ctk6ayD6irmS",
        "outputId": "13b7af87-f5bf-450e-a119-02fb3a5af532"
      },
      "outputs": [
        {
          "output_type": "stream",
          "name": "stdout",
          "text": [
            "1\n",
            "2\n",
            "3\n",
            "4\n",
            "5\n",
            "6\n",
            "7\n",
            "8\n",
            "9\n",
            "10\n"
          ]
        }
      ],
      "source": [
        "numero = 1\n",
        "while numero <= 10:\n",
        "  print(numero)\n",
        "  numero += 1"
      ]
    },
    {
      "cell_type": "code",
      "execution_count": 5,
      "metadata": {
        "id": "Z9vnJhQjirmT"
      },
      "outputs": [],
      "source": [
        "# option = 0\n",
        "# while option != 4:\n",
        "#   print(\"1. Perform action 1\")\n",
        "#   print(\"2. Perform action 2\")\n",
        "#   print(\"3. Perform action 3\")\n",
        "#   print(\"4. Exit\")"
      ]
    },
    {
      "cell_type": "markdown",
      "metadata": {
        "id": "gS_BA98SirmT"
      },
      "source": [
        "# Listas"
      ]
    },
    {
      "cell_type": "code",
      "execution_count": 6,
      "metadata": {
        "colab": {
          "base_uri": "https://localhost:8080/"
        },
        "id": "JFoJc27IirmT",
        "outputId": "27116548-1ef1-4f34-959d-7b4c32b4f6a4"
      },
      "outputs": [
        {
          "output_type": "stream",
          "name": "stdout",
          "text": [
            "manzana\n",
            "3\n"
          ]
        }
      ],
      "source": [
        "frutas = [\"manzana\", \"banana\", \"naranja\"]\n",
        "primera_fruta = frutas[0]\n",
        "print(primera_fruta)\n",
        "\n",
        "largo = len(frutas)\n",
        "print(largo)"
      ]
    },
    {
      "cell_type": "code",
      "execution_count": 7,
      "metadata": {
        "colab": {
          "base_uri": "https://localhost:8080/"
        },
        "id": "5GNSVl3YirmT",
        "outputId": "00259f08-86d9-4576-d366-7c691dc9ab5e"
      },
      "outputs": [
        {
          "output_type": "stream",
          "name": "stdout",
          "text": [
            "hola  manzana\n",
            "hola  banana\n",
            "hola  naranja\n",
            "hola  uva\n"
          ]
        }
      ],
      "source": [
        "# agregar un elemento a la lista\n",
        "frutas.append(\"uva\")\n",
        "\n",
        "for fruta in frutas:\n",
        "  print(\"hola \",fruta)"
      ]
    },
    {
      "cell_type": "code",
      "execution_count": 8,
      "metadata": {
        "colab": {
          "base_uri": "https://localhost:8080/"
        },
        "id": "Gp6yfT4LirmU",
        "outputId": "34fa5ef5-1a71-47cf-ee34-332a397afa55"
      },
      "outputs": [
        {
          "output_type": "stream",
          "name": "stdout",
          "text": [
            "hola  Alice\n",
            "hola  Bob\n",
            "hola  Charlie\n"
          ]
        }
      ],
      "source": [
        "estudiantes = [\"Alice\", \"Bob\", \"Charlie\"]\n",
        "for estudiante in estudiantes:\n",
        "  print(\"hola \", estudiante)"
      ]
    },
    {
      "cell_type": "code",
      "execution_count": 9,
      "metadata": {
        "colab": {
          "base_uri": "https://localhost:8080/"
        },
        "id": "ZkHPommSirmU",
        "outputId": "fe96e4db-7808-4a63-a782-6a1de7e32aaf"
      },
      "outputs": [
        {
          "output_type": "stream",
          "name": "stdout",
          "text": [
            "El largo de la lista es:  3\n",
            "y el primer estudiante es:  Alice\n"
          ]
        }
      ],
      "source": [
        "largo_lista = len(estudiantes)\n",
        "print(\"El largo de la lista es: \", largo_lista)\n",
        "primer_estudiante = estudiantes[0]\n",
        "print(\"y el primer estudiante es: \", primer_estudiante)"
      ]
    },
    {
      "cell_type": "code",
      "execution_count": 10,
      "metadata": {
        "colab": {
          "base_uri": "https://localhost:8080/"
        },
        "id": "tvvi-1mBirmU",
        "outputId": "6400d4fd-58e4-4c2f-c30b-5d5a93083751"
      },
      "outputs": [
        {
          "output_type": "stream",
          "name": "stdout",
          "text": [
            "El total es:  1\n",
            "El total es:  3\n",
            "El total es:  6\n",
            "El total es:  10\n",
            "El total es:  15\n",
            "El total es:  21\n",
            "El total es:  28\n",
            "El total es:  36\n",
            "El total es:  45\n",
            "El total es:  55\n",
            "El total es:  66\n",
            "El total es:  78\n",
            "El total es:  91\n",
            "El total es:  105\n",
            "El total es:  120\n",
            "El total es:  136\n",
            "El total es:  153\n",
            "El total es:  171\n",
            "El total es:  190\n",
            "El total es:  210\n",
            "El total es:  231\n",
            "El total es:  253\n",
            "El total es:  276\n",
            "El total es:  300\n",
            "El total es:  325\n",
            "El total es:  351\n",
            "El total es:  378\n",
            "El total es:  406\n",
            "El total es:  435\n",
            "El total es:  465\n",
            "El total es:  496\n",
            "El total es:  528\n",
            "El total es:  561\n",
            "El total es:  595\n",
            "El total es:  630\n",
            "El total es:  666\n",
            "El total es:  703\n",
            "El total es:  741\n",
            "El total es:  780\n",
            "El total es:  820\n",
            "El total es:  861\n",
            "El total es:  903\n",
            "El total es:  946\n",
            "El total es:  990\n",
            "El total es:  1035\n",
            "El total es:  1081\n",
            "El total es:  1128\n",
            "El total es:  1176\n",
            "El total es:  1225\n",
            "El total es:  1275\n",
            "El total es:  1326\n",
            "El total es:  1378\n",
            "El total es:  1431\n",
            "El total es:  1485\n",
            "El total es:  1540\n",
            "El total es:  1596\n",
            "El total es:  1653\n",
            "El total es:  1711\n",
            "El total es:  1770\n",
            "El total es:  1830\n",
            "El total es:  1891\n",
            "El total es:  1953\n",
            "El total es:  2016\n",
            "El total es:  2080\n",
            "El total es:  2145\n",
            "El total es:  2211\n",
            "El total es:  2278\n",
            "El total es:  2346\n",
            "El total es:  2415\n",
            "El total es:  2485\n",
            "El total es:  2556\n",
            "El total es:  2628\n",
            "El total es:  2701\n",
            "El total es:  2775\n",
            "El total es:  2850\n",
            "El total es:  2926\n",
            "El total es:  3003\n",
            "El total es:  3081\n",
            "El total es:  3160\n",
            "El total es:  3240\n",
            "El total es:  3321\n",
            "El total es:  3403\n",
            "El total es:  3486\n",
            "El total es:  3570\n",
            "El total es:  3655\n",
            "El total es:  3741\n",
            "El total es:  3828\n",
            "El total es:  3916\n",
            "El total es:  4005\n",
            "El total es:  4095\n",
            "El total es:  4186\n",
            "El total es:  4278\n",
            "El total es:  4371\n",
            "El total es:  4465\n",
            "El total es:  4560\n",
            "El total es:  4656\n",
            "El total es:  4753\n",
            "El total es:  4851\n",
            "El total es:  4950\n",
            "El total es:  5050\n"
          ]
        }
      ],
      "source": [
        "total = 0\n",
        "for numero in range(1, 101):\n",
        "  total += numero\n",
        "  print(\"El total es: \", total)"
      ]
    },
    {
      "cell_type": "code",
      "execution_count": 11,
      "metadata": {
        "colab": {
          "base_uri": "https://localhost:8080/"
        },
        "id": "IabSHwCgirmU",
        "outputId": "1126a633-76fa-4510-cde8-327830e6670b"
      },
      "outputs": [
        {
          "output_type": "stream",
          "name": "stdout",
          "text": [
            "2\n",
            "4\n"
          ]
        }
      ],
      "source": [
        "numeros = [1, 2, 3, 4, 5]\n",
        "index = 0\n",
        "\n",
        "while index < len(numeros):\n",
        "  if numeros[index] % 2 == 0:\n",
        "    print(numeros[index])\n",
        "  index += 1"
      ]
    },
    {
      "cell_type": "markdown",
      "metadata": {
        "id": "1DFA4hKpirmU"
      },
      "source": [
        "## Bucles anidados"
      ]
    },
    {
      "cell_type": "code",
      "execution_count": 12,
      "metadata": {
        "colab": {
          "base_uri": "https://localhost:8080/"
        },
        "id": "WOdONEzNirmU",
        "outputId": "e40f6767-2e72-4489-eeec-9ff5a395d8b1"
      },
      "outputs": [
        {
          "output_type": "stream",
          "name": "stdout",
          "text": [
            "1 * 1 = 1\t1 * 2 = 2\t1 * 3 = 3\t1 * 4 = 4\t1 * 5 = 5\t1 * 6 = 6\t1 * 7 = 7\t1 * 8 = 8\t1 * 9 = 9\t1 * 10 = 10\t\n",
            "2 * 1 = 2\t2 * 2 = 4\t2 * 3 = 6\t2 * 4 = 8\t2 * 5 = 10\t2 * 6 = 12\t2 * 7 = 14\t2 * 8 = 16\t2 * 9 = 18\t2 * 10 = 20\t\n",
            "3 * 1 = 3\t3 * 2 = 6\t3 * 3 = 9\t3 * 4 = 12\t3 * 5 = 15\t3 * 6 = 18\t3 * 7 = 21\t3 * 8 = 24\t3 * 9 = 27\t3 * 10 = 30\t\n",
            "4 * 1 = 4\t4 * 2 = 8\t4 * 3 = 12\t4 * 4 = 16\t4 * 5 = 20\t4 * 6 = 24\t4 * 7 = 28\t4 * 8 = 32\t4 * 9 = 36\t4 * 10 = 40\t\n",
            "5 * 1 = 5\t5 * 2 = 10\t5 * 3 = 15\t5 * 4 = 20\t5 * 5 = 25\t5 * 6 = 30\t5 * 7 = 35\t5 * 8 = 40\t5 * 9 = 45\t5 * 10 = 50\t\n",
            "6 * 1 = 6\t6 * 2 = 12\t6 * 3 = 18\t6 * 4 = 24\t6 * 5 = 30\t6 * 6 = 36\t6 * 7 = 42\t6 * 8 = 48\t6 * 9 = 54\t6 * 10 = 60\t\n",
            "7 * 1 = 7\t7 * 2 = 14\t7 * 3 = 21\t7 * 4 = 28\t7 * 5 = 35\t7 * 6 = 42\t7 * 7 = 49\t7 * 8 = 56\t7 * 9 = 63\t7 * 10 = 70\t\n",
            "8 * 1 = 8\t8 * 2 = 16\t8 * 3 = 24\t8 * 4 = 32\t8 * 5 = 40\t8 * 6 = 48\t8 * 7 = 56\t8 * 8 = 64\t8 * 9 = 72\t8 * 10 = 80\t\n",
            "9 * 1 = 9\t9 * 2 = 18\t9 * 3 = 27\t9 * 4 = 36\t9 * 5 = 45\t9 * 6 = 54\t9 * 7 = 63\t9 * 8 = 72\t9 * 9 = 81\t9 * 10 = 90\t\n",
            "10 * 1 = 10\t10 * 2 = 20\t10 * 3 = 30\t10 * 4 = 40\t10 * 5 = 50\t10 * 6 = 60\t10 * 7 = 70\t10 * 8 = 80\t10 * 9 = 90\t10 * 10 = 100\t\n"
          ]
        }
      ],
      "source": [
        "for i in range(1,11):\n",
        "  for j in range(1,11):\n",
        "    print(i, \"*\", j, \"=\", i * j, end=\"\\t\")\n",
        "  print()"
      ]
    },
    {
      "cell_type": "code",
      "execution_count": 13,
      "metadata": {
        "colab": {
          "base_uri": "https://localhost:8080/"
        },
        "id": "22rbizYRirmV",
        "outputId": "38ca48c8-9633-43f2-ad74-83480065b708"
      },
      "outputs": [
        {
          "output_type": "stream",
          "name": "stdout",
          "text": [
            "0\n",
            "12\n",
            "24\n",
            "36\n",
            "48\n"
          ]
        }
      ],
      "source": [
        "max_value = 50\n",
        "for i in range(max_value + 1):\n",
        "  if i % 3 == 0 and i % 4 == 0:\n",
        "    print(i)"
      ]
    },
    {
      "cell_type": "code",
      "execution_count": 14,
      "metadata": {
        "colab": {
          "base_uri": "https://localhost:8080/"
        },
        "id": "SXFhqSouk_5G",
        "outputId": "644e04a6-40b9-4d0a-ccc0-36374f2ad1b6"
      },
      "outputs": [
        {
          "output_type": "stream",
          "name": "stdout",
          "text": [
            "3 es impar\n",
            "9 es impar\n",
            "1 es impar\n",
            "10 es par\n",
            "5 es impar\n",
            "2 es par\n",
            "8 es par\n"
          ]
        }
      ],
      "source": [
        "numbers = [3, 9, 1, 10, 5, 2, 8]\n",
        "\n",
        "for number in numbers:\n",
        "    if number % 2 == 0:\n",
        "        print(number, \"es par\")\n",
        "    else:\n",
        "        print(number, \"es impar\")"
      ]
    },
    {
      "cell_type": "markdown",
      "metadata": {
        "id": "HFXYy5EnmtXO"
      },
      "source": [
        "# Detectando números pares e impares"
      ]
    },
    {
      "cell_type": "code",
      "execution_count": 15,
      "metadata": {
        "colab": {
          "base_uri": "https://localhost:8080/"
        },
        "id": "qdLpYsVMlAnb",
        "outputId": "ffe104ef-0c5f-4785-fe19-aa49db66c0e9"
      },
      "outputs": [
        {
          "output_type": "stream",
          "name": "stdout",
          "text": [
            "3 es impar\n",
            "9 es impar\n",
            "10 es par\n",
            "2 es par\n",
            "8 es par\n"
          ]
        }
      ],
      "source": [
        "numbers = [3, 9, 1, 10, 5, 2, 8]\n",
        "\n",
        "for number in numbers:\n",
        "    if number % 2 == 0:\n",
        "        print(number, \"es par\")\n",
        "    if number % 3 == 0:\n",
        "        print(number, \"es impar\")"
      ]
    },
    {
      "cell_type": "code",
      "execution_count": 16,
      "metadata": {
        "colab": {
          "base_uri": "https://localhost:8080/"
        },
        "id": "iKw9thjMlXto",
        "outputId": "69562b34-e048-4f16-c4eb-08871c15da0d"
      },
      "outputs": [
        {
          "output_type": "stream",
          "name": "stdout",
          "text": [
            "1\n",
            "2\n",
            "3\n",
            "4\n",
            "hemos llegado a la mitad\n",
            "5\n",
            "6\n",
            "7\n",
            "8\n",
            "9\n",
            "10\n"
          ]
        }
      ],
      "source": [
        "for i in range(1,11):\n",
        "  if i == 5:\n",
        "    print(\"hemos llegado a la mitad\")\n",
        "  print(i)"
      ]
    },
    {
      "cell_type": "code",
      "execution_count": 17,
      "metadata": {
        "colab": {
          "base_uri": "https://localhost:8080/"
        },
        "id": "J6W7deNLoHhQ",
        "outputId": "945fdc1c-e14c-48b2-9a40-6d9283f2308b"
      },
      "outputs": [
        {
          "output_type": "stream",
          "name": "stdout",
          "text": [
            "10\n",
            "9\n",
            "8\n",
            "7\n",
            "6\n",
            "5\n",
            "¡Punto medio alcanzado!\n",
            "4\n",
            "3\n",
            "2\n",
            "1\n",
            "0\n"
          ]
        }
      ],
      "source": [
        "temporizador = 10\n",
        "for i in range(temporizador, -1, -1):\n",
        "  print(i)\n",
        "  if i == 5:\n",
        "    print('¡Punto medio alcanzado!')"
      ]
    },
    {
      "cell_type": "markdown",
      "metadata": {
        "id": "1ozd_WHKjg3a"
      },
      "source": [
        "# Ejercicio: Variables y bucles"
      ]
    },
    {
      "cell_type": "code",
      "execution_count": 18,
      "metadata": {
        "id": "j12Judb8qKQF",
        "colab": {
          "base_uri": "https://localhost:8080/"
        },
        "outputId": "abb8ea70-7d48-4fcb-e111-f83f6f56992c"
      },
      "outputs": [
        {
          "output_type": "stream",
          "name": "stdout",
          "text": [
            "[32.0, 50.0, 77.0, 95.0, 212.0]\n"
          ]
        }
      ],
      "source": [
        "celsius_temperatures = [0, 10, 25, 35, 100]\n",
        "fahrenheit_temperatures = []\n",
        "\n",
        "# transformar temperaturas en grados celsius a grados fahrenheit\n",
        "for celsius in celsius_temperatures:\n",
        "  f = (celsius * 9/5) + 32\n",
        "  fahrenheit_temperatures.append(f)\n",
        "\n",
        "print(fahrenheit_temperatures)"
      ]
    },
    {
      "cell_type": "markdown",
      "source": [
        "# Listas"
      ],
      "metadata": {
        "id": "zi9kfBXPnpI3"
      }
    },
    {
      "cell_type": "code",
      "source": [
        "compras_supermercado = [\"leche\", \"hummus\", \"pan\", \"queso\", \"manzanas\"]\n",
        "# acceder a un elemento de la lista\n",
        "print(compras_supermercado[1])\n",
        "# ver el largo de la lista\n",
        "print(len(compras_supermercado))\n",
        "# acceder al último elemento de la lista\n",
        "print(compras_supermercado[-1])\n",
        "# acceder a los dos primeros elementos - se imprime los elementos 0 y 1 y el 2 queda excluido\n",
        "print(compras_supermercado[0:2])\n",
        "# veces que aparece un elemento dentro de una lista\n",
        "print(compras_supermercado.count(\"hummus\"))"
      ],
      "metadata": {
        "colab": {
          "base_uri": "https://localhost:8080/"
        },
        "id": "bwxwBulqj4em",
        "outputId": "0fe9ec70-6174-4b00-e732-c808f7cce26b"
      },
      "execution_count": 19,
      "outputs": [
        {
          "output_type": "stream",
          "name": "stdout",
          "text": [
            "hummus\n",
            "5\n",
            "manzanas\n",
            "['leche', 'hummus']\n",
            "1\n"
          ]
        }
      ]
    },
    {
      "cell_type": "code",
      "source": [
        "# ordenar los elementos de una lista\n",
        "compras_supermercado.sort()\n",
        "print(compras_supermercado)"
      ],
      "metadata": {
        "colab": {
          "base_uri": "https://localhost:8080/"
        },
        "id": "M31BiyTXVq7_",
        "outputId": "be6434f5-4d28-404a-b611-ea2caa005491"
      },
      "execution_count": 20,
      "outputs": [
        {
          "output_type": "stream",
          "name": "stdout",
          "text": [
            "['hummus', 'leche', 'manzanas', 'pan', 'queso']\n"
          ]
        }
      ]
    },
    {
      "cell_type": "code",
      "source": [
        "# invertir los elementos de la lista\n",
        "compras_supermercado.reverse()\n",
        "print(compras_supermercado)"
      ],
      "metadata": {
        "colab": {
          "base_uri": "https://localhost:8080/"
        },
        "id": "3AIhR6Y5Vu7M",
        "outputId": "4de3e10b-cfe2-48b6-dc2b-87cae768c476"
      },
      "execution_count": 21,
      "outputs": [
        {
          "output_type": "stream",
          "name": "stdout",
          "text": [
            "['queso', 'pan', 'manzanas', 'leche', 'hummus']\n"
          ]
        }
      ]
    },
    {
      "cell_type": "code",
      "source": [
        "numeros = [1,2,3,4]\n",
        "numeros.reverse()\n",
        "print(numeros)"
      ],
      "metadata": {
        "id": "U1DJneyPn9HD",
        "colab": {
          "base_uri": "https://localhost:8080/"
        },
        "outputId": "61eaf150-5b85-44f9-e81d-4452c584508d"
      },
      "execution_count": 22,
      "outputs": [
        {
          "output_type": "stream",
          "name": "stdout",
          "text": [
            "[4, 3, 2, 1]\n"
          ]
        }
      ]
    },
    {
      "cell_type": "markdown",
      "source": [
        "# Funciones"
      ],
      "metadata": {
        "id": "t6kOvjdX0taN"
      }
    },
    {
      "cell_type": "code",
      "source": [
        "def suma(a,b):\n",
        "  return a+b\n",
        "\n",
        "suma(10,2)"
      ],
      "metadata": {
        "id": "F_LgTCvzVRcF",
        "colab": {
          "base_uri": "https://localhost:8080/"
        },
        "outputId": "013b2bc0-20db-4919-c924-d9fed84980cc"
      },
      "execution_count": 26,
      "outputs": [
        {
          "output_type": "execute_result",
          "data": {
            "text/plain": [
              "12"
            ]
          },
          "metadata": {},
          "execution_count": 26
        }
      ]
    },
    {
      "cell_type": "code",
      "source": [
        "def multiplicacion(a,b):\n",
        "  return a*b\n",
        "\n",
        "multiplicacion(10,2)"
      ],
      "metadata": {
        "colab": {
          "base_uri": "https://localhost:8080/"
        },
        "id": "CpeYz-0b06kC",
        "outputId": "aa52093b-ca75-47b1-b1eb-1506d0a63d68"
      },
      "execution_count": 27,
      "outputs": [
        {
          "output_type": "execute_result",
          "data": {
            "text/plain": [
              "20"
            ]
          },
          "metadata": {},
          "execution_count": 27
        }
      ]
    },
    {
      "cell_type": "code",
      "source": [
        "def calcular_area_rectangulo(base,altura):\n",
        "  \"\"\"función para calcular el área de un rectángulo.\n",
        "  Para invocar la función debes ingresar los parámetros de base y altura,\n",
        "  por ejemplo así:\n",
        "  calcular_area_rectangulo(10,2) y te entregará el resultado el área del rectangulo.\"\"\"\n",
        "  area = base * altura\n",
        "  return area\n",
        "\n",
        "calcular_area_rectangulo(30,18)"
      ],
      "metadata": {
        "colab": {
          "base_uri": "https://localhost:8080/"
        },
        "id": "F8GP2Npe1ONe",
        "outputId": "e5fb0e87-4a87-4322-bc12-e7824dfbe0fd"
      },
      "execution_count": 30,
      "outputs": [
        {
          "output_type": "execute_result",
          "data": {
            "text/plain": [
              "540"
            ]
          },
          "metadata": {},
          "execution_count": 30
        }
      ]
    },
    {
      "cell_type": "code",
      "source": [
        "def precio_con_descuento(precio,descuento):\n",
        "  \"\"\"función que permite calcular el precio final de un producto con descuento.\n",
        "  Para hacer uso de ella debe invocarla así:\n",
        "  precio_con_descuento(100,20) siendo 100 el precio original y 20 el descuento a aplicar sobre los 100\"\"\"\n",
        "  precio_final = int(precio - (precio * descuento / 100))\n",
        "  return print(f\"Tu precio con descuento aplicado es de:${precio_final:,}\")\n",
        "\n",
        "precio = 10000\n",
        "descuento = 20\n",
        "\n",
        "precio_con_descuento(precio,descuento)"
      ],
      "metadata": {
        "colab": {
          "base_uri": "https://localhost:8080/"
        },
        "id": "BobZN_fR2rNq",
        "outputId": "29208ff7-f09c-41e5-d0dc-993ea43fe0c7"
      },
      "execution_count": 47,
      "outputs": [
        {
          "output_type": "stream",
          "name": "stdout",
          "text": [
            "Tu precio con descuento aplicado es de:$8,000\n"
          ]
        }
      ]
    },
    {
      "cell_type": "code",
      "source": [],
      "metadata": {
        "id": "bKZUDvL04t5l"
      },
      "execution_count": null,
      "outputs": []
    }
  ],
  "metadata": {
    "colab": {
      "provenance": [],
      "include_colab_link": true
    },
    "kernelspec": {
      "display_name": "curso_python",
      "language": "python",
      "name": "python3"
    },
    "language_info": {
      "codemirror_mode": {
        "name": "ipython",
        "version": 3
      },
      "file_extension": ".py",
      "mimetype": "text/x-python",
      "name": "python",
      "nbconvert_exporter": "python",
      "pygments_lexer": "ipython3",
      "version": "3.12.9"
    }
  },
  "nbformat": 4,
  "nbformat_minor": 0
}